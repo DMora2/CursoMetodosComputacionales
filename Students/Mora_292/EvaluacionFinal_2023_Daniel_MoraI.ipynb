{
  "cells": [
    {
      "cell_type": "markdown",
      "source": [
        "Examen Final:\n",
        "\n",
        "Métodos Computacionales para físicos\n",
        "\n",
        "\n",
        "\n",
        "Nota: La entrega del examen es a través del github en la página del curso, en el directorio asociado a cada uno.\n",
        "\n",
        "\n",
        "\n",
        "\n",
        "Las aletas son sólidos que transfieren calor por conducción a lo largo de su geometría y por convección a través de su entorno. La ecuación diferencial que describe la temperatura como función de  la longitud de una  aleta viene dada por :\n",
        "\n",
        "\n",
        "\\begin{equation}\n",
        "\\frac{d^2(T-T_{\\infty})}{dx^2} - \\left( \\frac{hp}{kAc} \\right ) ^2 (T-T_{\\infty})=0\n",
        "\\end{equation}\n",
        "\n",
        "donde Ac es el  área de la sección transversal Ac, p es perímetro,\n",
        "k es el coficiente de conducción que depende de cada material y h el coficiente de convección. La temperatura  $T_{\\infty}$ es la temperatura ambiente.\n",
        "\n",
        "\n",
        "![aleta](https://github.com/hernansalinas/autogradesMetodosComputacionales/blob/main/Evaluaciones/img/aleta.png?raw=true)\n",
        "\n",
        "\n",
        "\n",
        "En general, el área de la sección transversal A y el perímetro p de una aleta\n",
        "varían con x, lo cual hace que esta ecuación diferencial sea difícil de resolver. En el caso especial de una sección transversal constante y conductividad térmica constante, la ecuación diferencial se reduce a\n",
        "\n",
        "\\begin{equation}\n",
        "\\frac{d^2 \\theta}{dx^2} - a ^2 \\theta=0\n",
        "\\end{equation}\n",
        "\n",
        "\n",
        "donde  $\\theta=T-T_{\\infty}$ y $a=\\frac{hp}{kAc}$\n",
        "\n",
        "\n",
        "Para una aleta suficientemente larga de sección transversal uniforme (Ac =\n",
        "constante), la temperatura en la base de la aleta viene dada por:\n",
        "\n",
        "\n",
        "\\begin{equation}\n",
        "\\theta(0)=\\theta_b=T_b-T_{\\infty}\n",
        "\\end{equation}\n",
        "\n",
        "\n",
        " y en la punta de la aleta, tenderá a la del medio, por consiguiente $\\theta$ tenderá a cero.\n",
        "\n",
        "\\begin{equation}\n",
        "\\theta(L)=T(L)-T_{\\infty}=0\n",
        "\\end{equation}\n",
        "\n",
        "La solucion  exacta viene dada por :\n",
        "\n",
        "\\begin{equation}\n",
        "T(x)=T_{\\infty}+(T_b-T_{\\infty})e^{-x\\sqrt{hp/kAc}}\n",
        "\\end{equation}\n",
        "\n",
        "\n",
        "\n",
        "Considerando  una aleta rectangular muy larga, fijada a una\n",
        "superficie plana de tal forma que la temperatura en el extremo\n",
        "de la aleta es prácticamente la del aire circundante, es decir,\n",
        "$T_{\\infty}=300K$. Asuma que el ancho es de 5.0 cm, el espesor de 1 mm, es decir, su area $A=5\\times 10^{-5}m^2$ y su perimetro de $p=0.102m$. La  conductividad térmica es $k=200 W/m K$, la temperatura en la base de $T_b=313K$ y el coeficiente de transferencia de calor es de $h=20 W/m^2K$. Calcule:\n"
      ],
      "metadata": {
        "id": "K2zVvdtJwIFL"
      }
    },
    {
      "cell_type": "code",
      "source": [
        "import numpy as np\n",
        "import scipy as sp\n",
        "import matplotlib.pyplot as plt\n",
        "\n"
      ],
      "metadata": {
        "id": "8CpJyZbIwj6X"
      },
      "execution_count": 46,
      "outputs": []
    },
    {
      "cell_type": "markdown",
      "source": [
        "1 (30%) La solución numérica de la ecuación diferencial."
      ],
      "metadata": {
        "id": "Y_YrVa9JweVt"
      }
    },
    {
      "cell_type": "code",
      "source": [
        "# Datos\n",
        "w = 0.05  # m\n",
        "t = 0.001  #  m\n",
        "p = 0.102  # m\n",
        "k = 200  # W/(m·K)\n",
        "Tb = 313  # K\n",
        "h = 20  # W/(m^2·K)\n",
        "T_oo = 300  # K\n",
        "\n"
      ],
      "metadata": {
        "id": "u9BUeKRk3aj4"
      },
      "execution_count": 47,
      "outputs": []
    },
    {
      "cell_type": "code",
      "source": [
        "Ac = w * t # m^2\n",
        "\n",
        "#a\n",
        "a = (h * p) / (k * Ac)"
      ],
      "metadata": {
        "id": "YPYzuP7ivbmc"
      },
      "execution_count": 48,
      "outputs": []
    },
    {
      "cell_type": "code",
      "source": [
        "#EDO\n",
        "def func(theta, x):\n",
        "    d_theta = theta[1]\n",
        "    d_theta2 = a**2 * theta[0]\n",
        "    return [d_theta, d_theta2]\n",
        "\n",
        "#PVI\n",
        "pvi = [Tb-T_oo, 0]\n"
      ],
      "metadata": {
        "id": "-Etf0bBrxQMA"
      },
      "execution_count": 49,
      "outputs": []
    },
    {
      "cell_type": "code",
      "source": [
        "x = np.linspace(0, 1, 100)\n",
        "\n",
        "#Solución numérica a la EDO\n",
        "sol = sp.integrate.odeint(func, pvi, x)\n"
      ],
      "metadata": {
        "id": "PAonWz3Qx9pw"
      },
      "execution_count": 50,
      "outputs": []
    },
    {
      "cell_type": "code",
      "source": [
        "sol"
      ],
      "metadata": {
        "colab": {
          "base_uri": "https://localhost:8080/"
        },
        "id": "jhBckzZ6yfrV",
        "outputId": "8e6c55bb-6cdc-4842-c200-677bfff41952"
      },
      "execution_count": 51,
      "outputs": [
        {
          "output_type": "execute_result",
          "data": {
            "text/plain": [
              "array([[1.30000000e+01, 0.00000000e+00],\n",
              "       [5.18576723e+01, 1.02411620e+04],\n",
              "       [4.00725867e+02, 8.17050485e+04],\n",
              "       [3.14517473e+03, 6.41610165e+05],\n",
              "       [2.46918034e+04, 5.03712720e+06],\n",
              "       [1.93848586e+05, 3.95451115e+07],\n",
              "       [1.52185227e+06, 3.10457862e+08],\n",
              "       [1.19476462e+07, 2.43731982e+09],\n",
              "       [9.37977045e+07, 1.91347317e+10],\n",
              "       [7.36380141e+08, 1.50221549e+11],\n",
              "       [5.78111921e+09, 1.17934832e+12],\n",
              "       [4.53859868e+10, 9.25874130e+12],\n",
              "       [3.56312977e+11, 7.26878472e+13],\n",
              "       [2.79731579e+12, 5.70652421e+14],\n",
              "       [2.19609617e+13, 4.48003618e+15],\n",
              "       [1.72409508e+14, 3.51715395e+16],\n",
              "       [1.35353992e+15, 2.76122144e+17],\n",
              "       [1.06262719e+16, 2.16775948e+18],\n",
              "       [8.34239566e+16, 1.70184872e+19],\n",
              "       [6.54938681e+17, 1.33607491e+20],\n",
              "       [5.14174457e+18, 1.04891589e+21],\n",
              "       [4.03664312e+19, 8.23475197e+21],\n",
              "       [3.16905818e+20, 6.46487869e+22],\n",
              "       [2.48794096e+21, 5.07539956e+23],\n",
              "       [1.95321445e+22, 3.98455747e+24],\n",
              "       [1.53341527e+23, 3.12816716e+25],\n",
              "       [1.20384242e+24, 2.45583854e+26],\n",
              "       [9.45103779e+24, 1.92801171e+27],\n",
              "       [7.41975145e+25, 1.51362930e+28],\n",
              "       [5.82504406e+26, 1.18830899e+29],\n",
              "       [4.57308287e+27, 9.32908906e+29],\n",
              "       [3.59020237e+28, 7.32401283e+30],\n",
              "       [2.81856975e+29, 5.74988229e+31],\n",
              "       [2.21278207e+30, 4.51407542e+32],\n",
              "       [1.73719472e+31, 3.54387723e+33],\n",
              "       [1.36382409e+32, 2.78220115e+34],\n",
              "       [1.07070102e+33, 2.18423008e+35],\n",
              "       [8.40578105e+33, 1.71477933e+36],\n",
              "       [6.59914895e+34, 1.34622639e+37],\n",
              "       [5.18081146e+35, 1.05688554e+38],\n",
              "       [4.06731347e+36, 8.29731949e+38],\n",
              "       [3.19313664e+37, 6.51399874e+39],\n",
              "       [2.50684429e+38, 5.11396236e+40],\n",
              "       [1.96805494e+39, 4.01483207e+41],\n",
              "       [1.54506614e+40, 3.15193492e+42],\n",
              "       [1.21298919e+41, 2.47449796e+43],\n",
              "       [9.52284662e+41, 1.94266071e+44],\n",
              "       [7.47612660e+42, 1.52512983e+45],\n",
              "       [5.86930265e+43, 1.19733774e+46],\n",
              "       [4.60782908e+44, 9.39997133e+46],\n",
              "       [3.61748067e+45, 7.37966056e+47],\n",
              "       [2.83998520e+46, 5.79356980e+48],\n",
              "       [2.22959475e+47, 4.54837329e+49],\n",
              "       [1.75039390e+48, 3.57080355e+50],\n",
              "       [1.37418641e+49, 2.80334027e+51],\n",
              "       [1.07883619e+50, 2.20082582e+52],\n",
              "       [8.46964803e+50, 1.72780820e+53],\n",
              "       [6.64928917e+51, 1.35645499e+54],\n",
              "       [5.22017518e+52, 1.06491574e+55],\n",
              "       [4.09821685e+53, 8.36036238e+55],\n",
              "       [3.21739804e+54, 6.56349199e+56],\n",
              "       [2.52589126e+55, 5.15281816e+57],\n",
              "       [1.98300819e+56, 4.04533670e+58],\n",
              "       [1.55680553e+57, 3.17588327e+59],\n",
              "       [1.22220547e+58, 2.49329915e+60],\n",
              "       [9.59520105e+58, 1.95742101e+61],\n",
              "       [7.53293008e+59, 1.53671774e+62],\n",
              "       [5.91389751e+60, 1.20643509e+63],\n",
              "       [4.64283929e+61, 9.47139216e+63],\n",
              "       [3.64496623e+62, 7.43573110e+64],\n",
              "       [2.86156336e+63, 5.83758925e+65],\n",
              "       [2.24653518e+64, 4.58293176e+66],\n",
              "       [1.76369336e+65, 3.59793446e+67],\n",
              "       [1.38462745e+66, 2.82464000e+68],\n",
              "       [1.08703317e+67, 2.21754766e+69],\n",
              "       [8.53400027e+67, 1.74093606e+70],\n",
              "       [6.69981036e+68, 1.36676131e+71],\n",
              "       [5.25983799e+69, 1.07300695e+72],\n",
              "       [4.12935504e+70, 8.42388428e+72],\n",
              "       [3.24184377e+71, 6.61336130e+73],\n",
              "       [2.54508294e+72, 5.19196919e+74],\n",
              "       [1.99807505e+73, 4.07607310e+75],\n",
              "       [1.56863411e+74, 3.20001358e+76],\n",
              "       [1.23149176e+75, 2.51224320e+77],\n",
              "       [9.66810523e+75, 1.97229347e+78],\n",
              "       [7.59016516e+76, 1.54839369e+79],\n",
              "       [5.95883121e+77, 1.21560157e+80],\n",
              "       [4.67811551e+78, 9.54335564e+80],\n",
              "       [3.67266062e+79, 7.49222767e+81],\n",
              "       [2.88330547e+80, 5.88194316e+82],\n",
              "       [2.26360431e+81, 4.61775280e+83],\n",
              "       [1.77709388e+82, 3.62527151e+84],\n",
              "       [1.39514783e+83, 2.84610157e+85],\n",
              "       [1.09529243e+84, 2.23439655e+86],\n",
              "       [8.59884147e+84, 1.75416366e+87],\n",
              "       [6.75071541e+85, 1.37714594e+88],\n",
              "       [5.29980215e+86, 1.08115964e+89],\n",
              "       [4.16072981e+87, 8.48788881e+89],\n",
              "       [3.26647525e+88, 6.66360951e+90],\n",
              "       [2.56442044e+89, 5.23141769e+91]])"
            ]
          },
          "metadata": {},
          "execution_count": 51
        }
      ]
    },
    {
      "cell_type": "markdown",
      "source": [
        "2 (20%) Construya un gráfico de  la temperatura de la aleta como función de la longitud de la aleta"
      ],
      "metadata": {
        "id": "I6Qhhr4DysDm"
      }
    },
    {
      "cell_type": "code",
      "source": [
        "# Temperatura\n",
        "theta = sol[:, 0]\n",
        "\n",
        "# Calcular la temperatura (T) total\n",
        "Tt = T_oo + theta\n",
        "\n"
      ],
      "metadata": {
        "id": "21v35m07ymj1"
      },
      "execution_count": 52,
      "outputs": []
    },
    {
      "cell_type": "code",
      "source": [
        "plt.plot(x, Tt, label='Temperatura')\n",
        "plt.xlabel('Longitud (m)')\n",
        "plt.ylabel('Temperatura (K)')\n",
        "plt.title('Temperatura en la aleta rectangular')"
      ],
      "metadata": {
        "colab": {
          "base_uri": "https://localhost:8080/",
          "height": 489
        },
        "id": "p_10yVkDyKd1",
        "outputId": "e2480e0b-9a74-4da6-c30b-7c88df031fb2"
      },
      "execution_count": 53,
      "outputs": [
        {
          "output_type": "execute_result",
          "data": {
            "text/plain": [
              "Text(0.5, 1.0, 'Temperatura en la aleta rectangular')"
            ]
          },
          "metadata": {},
          "execution_count": 53
        },
        {
          "output_type": "display_data",
          "data": {
            "text/plain": [
              "<Figure size 640x480 with 1 Axes>"
            ],
            "image/png": "[encoded data removed]"
          },
          "metadata": {}
        }
      ]
    },
    {
      "cell_type": "markdown",
      "source": [
        "3 (25%) Compare la solución numérica con la analítica"
      ],
      "metadata": {
        "id": "S-D5mrlZ2Vd7"
      }
    },
    {
      "cell_type": "code",
      "source": [
        "#Teorica\n",
        "x = np.linspace(0, 1, 100)\n",
        "T =lambda x: T_oo + (Tb-T_oo)*np.exp(-x*np.sqrt(a))"
      ],
      "metadata": {
        "id": "40_BUvkJy6ry"
      },
      "execution_count": 54,
      "outputs": []
    },
    {
      "cell_type": "code",
      "source": [
        "plt.plot(x, T(x), label='S.teórica')\n",
        "plt.xlabel('Distancia')\n",
        "plt.ylabel('Temperatura')\n"
      ],
      "metadata": {
        "colab": {
          "base_uri": "https://localhost:8080/",
          "height": 466
        },
        "id": "Fvs-awks2i6y",
        "outputId": "f0f34bf9-2464-485a-a694-ba7364a599a4"
      },
      "execution_count": 55,
      "outputs": [
        {
          "output_type": "execute_result",
          "data": {
            "text/plain": [
              "Text(0, 0.5, 'Temperatura')"
            ]
          },
          "metadata": {},
          "execution_count": 55
        },
        {
          "output_type": "display_data",
          "data": {
            "text/plain": [
              "<Figure size 640x480 with 1 Axes>"
            ],
            "image/png": "[encoded data removed]"
          },
          "metadata": {}
        }
      ]
    },
    {
      "cell_type": "code",
      "source": [
        "plt.plot(x, Tt, label='S. numerica')\n",
        "plt.xlabel('Distancia')\n",
        "plt.ylabel('Temperatura')"
      ],
      "metadata": {
        "colab": {
          "base_uri": "https://localhost:8080/",
          "height": 482
        },
        "id": "cXbMEFRg3AmA",
        "outputId": "8409213e-bbf1-43e4-ff9d-4be0c8116ed7"
      },
      "execution_count": 56,
      "outputs": [
        {
          "output_type": "execute_result",
          "data": {
            "text/plain": [
              "Text(0, 0.5, 'Temperatura')"
            ]
          },
          "metadata": {},
          "execution_count": 56
        },
        {
          "output_type": "display_data",
          "data": {
            "text/plain": [
              "<Figure size 640x480 with 1 Axes>"
            ],
            "image/png": "[encoded data removed]"
          },
          "metadata": {}
        }
      ]
    },
    {
      "cell_type": "markdown",
      "source": [
        "La comparación no se puede hacer debido a que la gráfica varia dependiendo de como se tomen las condiciones iniciales\n"
      ],
      "metadata": {
        "id": "rSrOkarz3wjg"
      }
    },
    {
      "cell_type": "markdown",
      "source": [
        "4 (25%) Empleando el método de newton detetermine el punto de la aleta para la cual la temperatura es de 305K\n"
      ],
      "metadata": {
        "id": "JwfnDDiW394l"
      }
    },
    {
      "cell_type": "code",
      "source": [
        "def Tt(x):\n",
        "   return T_oo + (Tb-T_oo)*np.exp(-x*np.sqrt(a))-305\n",
        "x0 = 0.1"
      ],
      "metadata": {
        "id": "bFiHgaxp3lYW"
      },
      "execution_count": 57,
      "outputs": []
    },
    {
      "cell_type": "code",
      "source": [
        "a = sp.optimize.newton(Tt,x0)\n",
        "a"
      ],
      "metadata": {
        "colab": {
          "base_uri": "https://localhost:8080/"
        },
        "id": "hYeHpMg64FzM",
        "outputId": "9849dfad-5315-4b40-9899-09f4f76b59dd"
      },
      "execution_count": 58,
      "outputs": [
        {
          "output_type": "execute_result",
          "data": {
            "text/plain": [
              "0.06689918232668428"
            ]
          },
          "metadata": {},
          "execution_count": 58
        }
      ]
    },
    {
      "cell_type": "code",
      "source": [
        "print(f'El valor de X para el cual la temperatura es 305K es: {a}m ' )"
      ],
      "metadata": {
        "colab": {
          "base_uri": "https://localhost:8080/"
        },
        "id": "TPf2hQs04Jj9",
        "outputId": "f6a9d99c-824d-412d-8431-b5d55db455d5"
      },
      "execution_count": 59,
      "outputs": [
        {
          "output_type": "stream",
          "name": "stdout",
          "text": [
            "El valor de X para el cual la temperatura es 305K es: 0.06689918232668428m \n"
          ]
        }
      ]
    },
    {
      "cell_type": "code",
      "source": [],
      "metadata": {
        "id": "mH6SJNOD43Aj"
      },
      "execution_count": 59,
      "outputs": []
    }
  ],
  "metadata": {
    "colab": {
      "provenance": []
    },
    "kernelspec": {
      "display_name": "Python 3",
      "name": "python3"
    },
    "language_info": {
      "name": "python"
    }
  },
  "nbformat": 4,
  "nbformat_minor": 0
}